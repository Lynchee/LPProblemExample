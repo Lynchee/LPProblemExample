{
 "cells": [
  {
   "cell_type": "markdown",
   "id": "b981acd8",
   "metadata": {},
   "source": [
    "# ตัวอย่างปัญหากำหนดการเชิงเส้น (Linear programming problem)"
   ]
  },
  {
   "cell_type": "markdown",
   "id": "7ce8201d",
   "metadata": {},
   "source": [
    "<img src=\"Image/LP.png\">"
   ]
  },
  {
   "cell_type": "code",
   "execution_count": 47,
   "id": "9ef78886",
   "metadata": {},
   "outputs": [
    {
     "name": "stdout",
     "output_type": "stream",
     "text": [
      "S_VarsName ['x0', 'x1']\n",
      "P_Cost {'c0': 40, 'c1': 50}\n",
      "P_Constraint {'a00': 1, 'a01': 2, 'a10': 4, 'a11': 3}\n",
      "P_RHS {'b0': 40, 'b1': 120}\n"
     ]
    }
   ],
   "source": [
    "import json\n",
    "\n",
    "with open(\"Problem/LPProblem.txt\") as f:\n",
    "    # Read data\n",
    "    data = f.read()\n",
    "    # JSON format\n",
    "    LPProblem = json.loads(data)\n",
    "    \n",
    "    # Set of variable names\n",
    "    S_VarsName = LPProblem['S_VarsName']\n",
    "    print('S_VarsName',S_VarsName)\n",
    "    \n",
    "    # Objective function parameter\n",
    "    P_Cost = LPProblem['P_Cost']\n",
    "    print('P_Cost',P_Cost)\n",
    "    \n",
    "    # Objective function parameter\n",
    "    P_Constraint = LPProblem['P_Constraint']\n",
    "    print('P_Constraint',P_Constraint)\n",
    "    \n",
    "    # Objective function parameter\n",
    "    P_RHS = LPProblem['P_RHS']\n",
    "    print('P_RHS',P_RHS)"
   ]
  },
  {
   "cell_type": "markdown",
   "id": "fc417063",
   "metadata": {},
   "source": [
    "# การสร้าง Optimization Model ด้วย Pyomo "
   ]
  },
  {
   "cell_type": "code",
   "execution_count": 49,
   "id": "febf4dc6",
   "metadata": {},
   "outputs": [
    {
     "name": "stdout",
     "output_type": "stream",
     "text": [
      "1 Set Declarations\n",
      "    var_index : Size=1, Index=None, Ordered=Insertion\n",
      "        Key  : Dimen : Domain : Size : Members\n",
      "        None :     1 :    Any :    2 : {'x0', 'x1'}\n",
      "\n",
      "1 Var Declarations\n",
      "    var : Size=2, Index=var_index\n",
      "        Key : Lower : Value : Upper : Fixed : Stale : Domain\n",
      "         x0 :     0 :  None :  None : False :  True : NonNegativeReals\n",
      "         x1 :     0 :  None :  None : False :  True : NonNegativeReals\n",
      "\n",
      "1 Objective Declarations\n",
      "    OBJ : Size=1, Index=None, Active=True\n",
      "        Key  : Active : Sense    : Expression\n",
      "        None :   True : maximize : 40*var[x0] + 50*var[x1]\n",
      "\n",
      "2 Constraint Declarations\n",
      "    Constraint1 : Size=1, Index=None, Active=True\n",
      "        Key  : Lower : Body                : Upper : Active\n",
      "        None :  -Inf : var[x0] + 2*var[x1] :  40.0 :   True\n",
      "    Constraint2 : Size=1, Index=None, Active=True\n",
      "        Key  : Lower : Body                  : Upper : Active\n",
      "        None :  -Inf : 4*var[x0] + 3*var[x1] : 120.0 :   True\n",
      "\n",
      "5 Declarations: var_index var OBJ Constraint1 Constraint2\n"
     ]
    }
   ],
   "source": [
    "import pyomo.environ as pyo\n",
    "\n",
    "model = pyo.ConcreteModel()\n",
    "\n",
    "# Model variables\n",
    "model.var = pyo.Var([varName for varName in S_VarsName],domain=pyo.NonNegativeReals)\n",
    "\n",
    "# Objective function\n",
    "model.OBJ = pyo.Objective(expr = P_Cost['c0']*model.var['x0'] + P_Cost['c1']*model.var['x1'], sense=pyo.maximize)\n",
    "\n",
    "# Constraint function\n",
    "model.Constraint1 = pyo.Constraint(expr = P_Constraint['a00']*model.var['x0'] + P_Constraint['a01']*model.var['x1'] <= P_RHS['b0'])\n",
    "model.Constraint2 = pyo.Constraint(expr = P_Constraint['a10']*model.var['x0'] + P_Constraint['a11']*model.var['x1'] <= P_RHS['b1'])\n",
    "\n",
    "model.pprint()"
   ]
  },
  {
   "cell_type": "markdown",
   "id": "e142ecd6",
   "metadata": {},
   "source": [
    "# Solve the model"
   ]
  },
  {
   "cell_type": "code",
   "execution_count": 51,
   "id": "e6732474",
   "metadata": {},
   "outputs": [
    {
     "name": "stdout",
     "output_type": "stream",
     "text": [
      "# ==========================================================\n",
      "# = Solver Results                                         =\n",
      "# ==========================================================\n",
      "# ----------------------------------------------------------\n",
      "#   Problem Information\n",
      "# ----------------------------------------------------------\n",
      "Problem: \n",
      "- Name: unknown\n",
      "  Lower bound: -1360.0\n",
      "  Upper bound: -1360.0\n",
      "  Number of objectives: 1\n",
      "  Number of constraints: 3\n",
      "  Number of variables: 3\n",
      "  Number of nonzeros: 2\n",
      "  Sense: maximize\n",
      "# ----------------------------------------------------------\n",
      "#   Solver Information\n",
      "# ----------------------------------------------------------\n",
      "Solver: \n",
      "- Status: ok\n",
      "  User time: -1.0\n",
      "  System time: 0.0\n",
      "  Wallclock time: 0.0\n",
      "  Termination condition: optimal\n",
      "  Termination message: Model was solved to optimality (subject to tolerances), and an optimal solution is available.\n",
      "  Statistics: \n",
      "    Branch and bound: \n",
      "      Number of bounded subproblems: None\n",
      "      Number of created subproblems: None\n",
      "    Black box: \n",
      "      Number of iterations: 2\n",
      "  Error rc: 0\n",
      "  Time: 0.013600587844848633\n",
      "# ----------------------------------------------------------\n",
      "#   Solution Information\n",
      "# ----------------------------------------------------------\n",
      "Solution: \n",
      "- number of solutions: 0\n",
      "  number of solutions displayed: 0\n"
     ]
    }
   ],
   "source": [
    "pyo.SolverFactory(\"cbc\").solve(model, timelimit=None).write() # timelimit (secs)"
   ]
  },
  {
   "cell_type": "markdown",
   "id": "1f1546cc",
   "metadata": {},
   "source": [
    "# ผลลัพธ์ของ Solver (Optimal solution)"
   ]
  },
  {
   "cell_type": "code",
   "execution_count": 52,
   "id": "dbaab1c2",
   "metadata": {},
   "outputs": [
    {
     "name": "stdout",
     "output_type": "stream",
     "text": [
      "Optimal value : 1360.0\n",
      "Optimal solution : {'x0': 24.0, 'x1': 8.0}\n"
     ]
    }
   ],
   "source": [
    "optimalValue = model.OBJ()\n",
    "optimalSolution = {varName:model.var[varName].value for varName in S_VarsName}\n",
    "print(f\"Optimal value : {optimalValue}\\n\"\n",
    "      f\"Optimal solution : {optimalSolution}\")"
   ]
  }
 ],
 "metadata": {
  "kernelspec": {
   "display_name": "Python 3 (ipykernel)",
   "language": "python",
   "name": "python3"
  },
  "language_info": {
   "codemirror_mode": {
    "name": "ipython",
    "version": 3
   },
   "file_extension": ".py",
   "mimetype": "text/x-python",
   "name": "python",
   "nbconvert_exporter": "python",
   "pygments_lexer": "ipython3",
   "version": "3.8.3"
  }
 },
 "nbformat": 4,
 "nbformat_minor": 5
}
